{
 "cells": [
  {
   "cell_type": "code",
   "execution_count": 1,
   "id": "e5417bf9",
   "metadata": {},
   "outputs": [
    {
     "name": "stdout",
     "output_type": "stream",
     "text": [
      "Defaulting to user installation because normal site-packages is not writeable\n",
      "Requirement already satisfied: tensorflow in c:\\users\\thanu\\appdata\\roaming\\python\\python311\\site-packages (2.15.0)\n",
      "Requirement already satisfied: tensorflow-intel==2.15.0 in c:\\users\\thanu\\appdata\\roaming\\python\\python311\\site-packages (from tensorflow) (2.15.0)\n",
      "Requirement already satisfied: absl-py>=1.0.0 in c:\\users\\thanu\\appdata\\roaming\\python\\python311\\site-packages (from tensorflow-intel==2.15.0->tensorflow) (2.0.0)\n",
      "Requirement already satisfied: astunparse>=1.6.0 in c:\\users\\thanu\\appdata\\roaming\\python\\python311\\site-packages (from tensorflow-intel==2.15.0->tensorflow) (1.6.3)\n",
      "Requirement already satisfied: flatbuffers>=23.5.26 in c:\\users\\thanu\\appdata\\roaming\\python\\python311\\site-packages (from tensorflow-intel==2.15.0->tensorflow) (23.5.26)\n",
      "Requirement already satisfied: gast!=0.5.0,!=0.5.1,!=0.5.2,>=0.2.1 in c:\\users\\thanu\\appdata\\roaming\\python\\python311\\site-packages (from tensorflow-intel==2.15.0->tensorflow) (0.5.4)\n",
      "Requirement already satisfied: google-pasta>=0.1.1 in c:\\users\\thanu\\appdata\\roaming\\python\\python311\\site-packages (from tensorflow-intel==2.15.0->tensorflow) (0.2.0)\n",
      "Requirement already satisfied: h5py>=2.9.0 in c:\\programdata\\anaconda3\\lib\\site-packages (from tensorflow-intel==2.15.0->tensorflow) (3.9.0)\n",
      "Requirement already satisfied: libclang>=13.0.0 in c:\\users\\thanu\\appdata\\roaming\\python\\python311\\site-packages (from tensorflow-intel==2.15.0->tensorflow) (16.0.6)\n",
      "Requirement already satisfied: ml-dtypes~=0.2.0 in c:\\users\\thanu\\appdata\\roaming\\python\\python311\\site-packages (from tensorflow-intel==2.15.0->tensorflow) (0.2.0)\n",
      "Requirement already satisfied: numpy<2.0.0,>=1.23.5 in c:\\programdata\\anaconda3\\lib\\site-packages (from tensorflow-intel==2.15.0->tensorflow) (1.24.3)\n",
      "Requirement already satisfied: opt-einsum>=2.3.2 in c:\\users\\thanu\\appdata\\roaming\\python\\python311\\site-packages (from tensorflow-intel==2.15.0->tensorflow) (3.3.0)\n",
      "Requirement already satisfied: packaging in c:\\programdata\\anaconda3\\lib\\site-packages (from tensorflow-intel==2.15.0->tensorflow) (23.1)\n",
      "Requirement already satisfied: protobuf!=4.21.0,!=4.21.1,!=4.21.2,!=4.21.3,!=4.21.4,!=4.21.5,<5.0.0dev,>=3.20.3 in c:\\users\\thanu\\appdata\\roaming\\python\\python311\\site-packages (from tensorflow-intel==2.15.0->tensorflow) (4.23.4)\n",
      "Requirement already satisfied: setuptools in c:\\programdata\\anaconda3\\lib\\site-packages (from tensorflow-intel==2.15.0->tensorflow) (68.0.0)\n",
      "Requirement already satisfied: six>=1.12.0 in c:\\programdata\\anaconda3\\lib\\site-packages (from tensorflow-intel==2.15.0->tensorflow) (1.16.0)\n",
      "Requirement already satisfied: termcolor>=1.1.0 in c:\\users\\thanu\\appdata\\roaming\\python\\python311\\site-packages (from tensorflow-intel==2.15.0->tensorflow) (2.4.0)\n",
      "Requirement already satisfied: typing-extensions>=3.6.6 in c:\\programdata\\anaconda3\\lib\\site-packages (from tensorflow-intel==2.15.0->tensorflow) (4.7.1)\n",
      "Requirement already satisfied: wrapt<1.15,>=1.11.0 in c:\\programdata\\anaconda3\\lib\\site-packages (from tensorflow-intel==2.15.0->tensorflow) (1.14.1)\n",
      "Requirement already satisfied: tensorflow-io-gcs-filesystem>=0.23.1 in c:\\users\\thanu\\appdata\\roaming\\python\\python311\\site-packages (from tensorflow-intel==2.15.0->tensorflow) (0.31.0)\n",
      "Requirement already satisfied: grpcio<2.0,>=1.24.3 in c:\\users\\thanu\\appdata\\roaming\\python\\python311\\site-packages (from tensorflow-intel==2.15.0->tensorflow) (1.60.0)\n",
      "Requirement already satisfied: tensorboard<2.16,>=2.15 in c:\\users\\thanu\\appdata\\roaming\\python\\python311\\site-packages (from tensorflow-intel==2.15.0->tensorflow) (2.15.1)\n",
      "Requirement already satisfied: tensorflow-estimator<2.16,>=2.15.0 in c:\\users\\thanu\\appdata\\roaming\\python\\python311\\site-packages (from tensorflow-intel==2.15.0->tensorflow) (2.15.0)\n",
      "Requirement already satisfied: keras<2.16,>=2.15.0 in c:\\users\\thanu\\appdata\\roaming\\python\\python311\\site-packages (from tensorflow-intel==2.15.0->tensorflow) (2.15.0)\n",
      "Requirement already satisfied: wheel<1.0,>=0.23.0 in c:\\programdata\\anaconda3\\lib\\site-packages (from astunparse>=1.6.0->tensorflow-intel==2.15.0->tensorflow) (0.38.4)\n",
      "Requirement already satisfied: google-auth<3,>=1.6.3 in c:\\users\\thanu\\appdata\\roaming\\python\\python311\\site-packages (from tensorboard<2.16,>=2.15->tensorflow-intel==2.15.0->tensorflow) (2.25.1)\n",
      "Requirement already satisfied: google-auth-oauthlib<2,>=0.5 in c:\\users\\thanu\\appdata\\roaming\\python\\python311\\site-packages (from tensorboard<2.16,>=2.15->tensorflow-intel==2.15.0->tensorflow) (1.1.0)\n",
      "Requirement already satisfied: markdown>=2.6.8 in c:\\programdata\\anaconda3\\lib\\site-packages (from tensorboard<2.16,>=2.15->tensorflow-intel==2.15.0->tensorflow) (3.4.1)\n",
      "Requirement already satisfied: requests<3,>=2.21.0 in c:\\programdata\\anaconda3\\lib\\site-packages (from tensorboard<2.16,>=2.15->tensorflow-intel==2.15.0->tensorflow) (2.31.0)\n",
      "Requirement already satisfied: tensorboard-data-server<0.8.0,>=0.7.0 in c:\\users\\thanu\\appdata\\roaming\\python\\python311\\site-packages (from tensorboard<2.16,>=2.15->tensorflow-intel==2.15.0->tensorflow) (0.7.2)\n",
      "Requirement already satisfied: werkzeug>=1.0.1 in c:\\programdata\\anaconda3\\lib\\site-packages (from tensorboard<2.16,>=2.15->tensorflow-intel==2.15.0->tensorflow) (2.2.3)\n",
      "Requirement already satisfied: cachetools<6.0,>=2.0.0 in c:\\users\\thanu\\appdata\\roaming\\python\\python311\\site-packages (from google-auth<3,>=1.6.3->tensorboard<2.16,>=2.15->tensorflow-intel==2.15.0->tensorflow) (5.3.2)\n",
      "Requirement already satisfied: pyasn1-modules>=0.2.1 in c:\\programdata\\anaconda3\\lib\\site-packages (from google-auth<3,>=1.6.3->tensorboard<2.16,>=2.15->tensorflow-intel==2.15.0->tensorflow) (0.2.8)\n",
      "Requirement already satisfied: rsa<5,>=3.1.4 in c:\\users\\thanu\\appdata\\roaming\\python\\python311\\site-packages (from google-auth<3,>=1.6.3->tensorboard<2.16,>=2.15->tensorflow-intel==2.15.0->tensorflow) (4.9)\n",
      "Requirement already satisfied: requests-oauthlib>=0.7.0 in c:\\users\\thanu\\appdata\\roaming\\python\\python311\\site-packages (from google-auth-oauthlib<2,>=0.5->tensorboard<2.16,>=2.15->tensorflow-intel==2.15.0->tensorflow) (1.3.1)\n",
      "Requirement already satisfied: charset-normalizer<4,>=2 in c:\\programdata\\anaconda3\\lib\\site-packages (from requests<3,>=2.21.0->tensorboard<2.16,>=2.15->tensorflow-intel==2.15.0->tensorflow) (2.0.4)\n",
      "Requirement already satisfied: idna<4,>=2.5 in c:\\programdata\\anaconda3\\lib\\site-packages (from requests<3,>=2.21.0->tensorboard<2.16,>=2.15->tensorflow-intel==2.15.0->tensorflow) (3.4)\n",
      "Requirement already satisfied: urllib3<3,>=1.21.1 in c:\\programdata\\anaconda3\\lib\\site-packages (from requests<3,>=2.21.0->tensorboard<2.16,>=2.15->tensorflow-intel==2.15.0->tensorflow) (1.26.16)\n",
      "Requirement already satisfied: certifi>=2017.4.17 in c:\\programdata\\anaconda3\\lib\\site-packages (from requests<3,>=2.21.0->tensorboard<2.16,>=2.15->tensorflow-intel==2.15.0->tensorflow) (2023.11.17)\n",
      "Requirement already satisfied: MarkupSafe>=2.1.1 in c:\\programdata\\anaconda3\\lib\\site-packages (from werkzeug>=1.0.1->tensorboard<2.16,>=2.15->tensorflow-intel==2.15.0->tensorflow) (2.1.1)\n",
      "Requirement already satisfied: pyasn1<0.5.0,>=0.4.6 in c:\\programdata\\anaconda3\\lib\\site-packages (from pyasn1-modules>=0.2.1->google-auth<3,>=1.6.3->tensorboard<2.16,>=2.15->tensorflow-intel==2.15.0->tensorflow) (0.4.8)\n",
      "Requirement already satisfied: oauthlib>=3.0.0 in c:\\users\\thanu\\appdata\\roaming\\python\\python311\\site-packages (from requests-oauthlib>=0.7.0->google-auth-oauthlib<2,>=0.5->tensorboard<2.16,>=2.15->tensorflow-intel==2.15.0->tensorflow) (3.2.2)\n"
     ]
    }
   ],
   "source": [
    "!pip install tensorflow"
   ]
  },
  {
   "cell_type": "code",
   "execution_count": 95,
   "id": "19e30828",
   "metadata": {},
   "outputs": [
    {
     "name": "stdout",
     "output_type": "stream",
     "text": [
      "Defaulting to user installation because normal site-packages is not writeable\n",
      "Requirement already satisfied: matplotlib in c:\\programdata\\anaconda3\\lib\\site-packages (3.7.2)\n",
      "Requirement already satisfied: contourpy>=1.0.1 in c:\\programdata\\anaconda3\\lib\\site-packages (from matplotlib) (1.0.5)\n",
      "Requirement already satisfied: cycler>=0.10 in c:\\programdata\\anaconda3\\lib\\site-packages (from matplotlib) (0.11.0)\n",
      "Requirement already satisfied: fonttools>=4.22.0 in c:\\programdata\\anaconda3\\lib\\site-packages (from matplotlib) (4.25.0)\n",
      "Requirement already satisfied: kiwisolver>=1.0.1 in c:\\programdata\\anaconda3\\lib\\site-packages (from matplotlib) (1.4.4)\n",
      "Requirement already satisfied: numpy>=1.20 in c:\\programdata\\anaconda3\\lib\\site-packages (from matplotlib) (1.24.3)\n",
      "Requirement already satisfied: packaging>=20.0 in c:\\programdata\\anaconda3\\lib\\site-packages (from matplotlib) (23.1)\n",
      "Requirement already satisfied: pillow>=6.2.0 in c:\\programdata\\anaconda3\\lib\\site-packages (from matplotlib) (10.0.1)\n",
      "Requirement already satisfied: pyparsing<3.1,>=2.3.1 in c:\\programdata\\anaconda3\\lib\\site-packages (from matplotlib) (3.0.9)\n",
      "Requirement already satisfied: python-dateutil>=2.7 in c:\\programdata\\anaconda3\\lib\\site-packages (from matplotlib) (2.8.2)\n",
      "Requirement already satisfied: six>=1.5 in c:\\programdata\\anaconda3\\lib\\site-packages (from python-dateutil>=2.7->matplotlib) (1.16.0)\n"
     ]
    }
   ],
   "source": [
    "!pip install matplotlib"
   ]
  },
  {
   "cell_type": "code",
   "execution_count": 4,
   "id": "cba1a67e",
   "metadata": {},
   "outputs": [
    {
     "name": "stdout",
     "output_type": "stream",
     "text": [
      "WARNING:tensorflow:From C:\\Users\\thanu\\AppData\\Roaming\\Python\\Python311\\site-packages\\keras\\src\\losses.py:2976: The name tf.losses.sparse_softmax_cross_entropy is deprecated. Please use tf.compat.v1.losses.sparse_softmax_cross_entropy instead.\n",
      "\n"
     ]
    }
   ],
   "source": [
    "import tensorflow as ts\n",
    "import pandas as pd\n",
    "import numpy as np\n",
    "from sklearn.model_selection import train_test_split\n",
    "from sklearn.preprocessing import StandardScaler\n",
    "from tensorflow.keras.models import Sequential\n",
    "from tensorflow.keras.layers import Dense\n",
    "from tensorflow.keras.optimizers import Adam\n",
    "import matplotlib.pyplot as plt"
   ]
  },
  {
   "cell_type": "code",
   "execution_count": 5,
   "id": "ab928791",
   "metadata": {},
   "outputs": [
    {
     "name": "stdout",
     "output_type": "stream",
     "text": [
      "2.15.0\n"
     ]
    }
   ],
   "source": [
    "print(ts.__version__)"
   ]
  },
  {
   "cell_type": "code",
   "execution_count": 6,
   "id": "7b4ebb05",
   "metadata": {},
   "outputs": [],
   "source": [
    "df=pd.read_csv('pima-indians-diabetes.csv')"
   ]
  },
  {
   "cell_type": "code",
   "execution_count": 7,
   "id": "30e70097",
   "metadata": {},
   "outputs": [
    {
     "data": {
      "text/html": [
       "<div>\n",
       "<style scoped>\n",
       "    .dataframe tbody tr th:only-of-type {\n",
       "        vertical-align: middle;\n",
       "    }\n",
       "\n",
       "    .dataframe tbody tr th {\n",
       "        vertical-align: top;\n",
       "    }\n",
       "\n",
       "    .dataframe thead th {\n",
       "        text-align: right;\n",
       "    }\n",
       "</style>\n",
       "<table border=\"1\" class=\"dataframe\">\n",
       "  <thead>\n",
       "    <tr style=\"text-align: right;\">\n",
       "      <th></th>\n",
       "      <th>Pregnancies</th>\n",
       "      <th>Glucose</th>\n",
       "      <th>BloodPressure</th>\n",
       "      <th>SkinThickness</th>\n",
       "      <th>Insulin</th>\n",
       "      <th>BMI</th>\n",
       "      <th>DiabetesPedigreeFunction</th>\n",
       "      <th>Age</th>\n",
       "      <th>Outcome</th>\n",
       "    </tr>\n",
       "  </thead>\n",
       "  <tbody>\n",
       "    <tr>\n",
       "      <th>0</th>\n",
       "      <td>6</td>\n",
       "      <td>148</td>\n",
       "      <td>72</td>\n",
       "      <td>35</td>\n",
       "      <td>0</td>\n",
       "      <td>33.6</td>\n",
       "      <td>0.627</td>\n",
       "      <td>50</td>\n",
       "      <td>1</td>\n",
       "    </tr>\n",
       "    <tr>\n",
       "      <th>1</th>\n",
       "      <td>1</td>\n",
       "      <td>85</td>\n",
       "      <td>66</td>\n",
       "      <td>29</td>\n",
       "      <td>0</td>\n",
       "      <td>26.6</td>\n",
       "      <td>0.351</td>\n",
       "      <td>31</td>\n",
       "      <td>0</td>\n",
       "    </tr>\n",
       "    <tr>\n",
       "      <th>2</th>\n",
       "      <td>8</td>\n",
       "      <td>183</td>\n",
       "      <td>64</td>\n",
       "      <td>0</td>\n",
       "      <td>0</td>\n",
       "      <td>23.3</td>\n",
       "      <td>0.672</td>\n",
       "      <td>32</td>\n",
       "      <td>1</td>\n",
       "    </tr>\n",
       "    <tr>\n",
       "      <th>3</th>\n",
       "      <td>1</td>\n",
       "      <td>89</td>\n",
       "      <td>66</td>\n",
       "      <td>23</td>\n",
       "      <td>94</td>\n",
       "      <td>28.1</td>\n",
       "      <td>0.167</td>\n",
       "      <td>21</td>\n",
       "      <td>0</td>\n",
       "    </tr>\n",
       "    <tr>\n",
       "      <th>4</th>\n",
       "      <td>0</td>\n",
       "      <td>137</td>\n",
       "      <td>40</td>\n",
       "      <td>35</td>\n",
       "      <td>168</td>\n",
       "      <td>43.1</td>\n",
       "      <td>2.288</td>\n",
       "      <td>33</td>\n",
       "      <td>1</td>\n",
       "    </tr>\n",
       "    <tr>\n",
       "      <th>...</th>\n",
       "      <td>...</td>\n",
       "      <td>...</td>\n",
       "      <td>...</td>\n",
       "      <td>...</td>\n",
       "      <td>...</td>\n",
       "      <td>...</td>\n",
       "      <td>...</td>\n",
       "      <td>...</td>\n",
       "      <td>...</td>\n",
       "    </tr>\n",
       "    <tr>\n",
       "      <th>763</th>\n",
       "      <td>10</td>\n",
       "      <td>101</td>\n",
       "      <td>76</td>\n",
       "      <td>48</td>\n",
       "      <td>180</td>\n",
       "      <td>32.9</td>\n",
       "      <td>0.171</td>\n",
       "      <td>63</td>\n",
       "      <td>0</td>\n",
       "    </tr>\n",
       "    <tr>\n",
       "      <th>764</th>\n",
       "      <td>2</td>\n",
       "      <td>122</td>\n",
       "      <td>70</td>\n",
       "      <td>27</td>\n",
       "      <td>0</td>\n",
       "      <td>36.8</td>\n",
       "      <td>0.340</td>\n",
       "      <td>27</td>\n",
       "      <td>0</td>\n",
       "    </tr>\n",
       "    <tr>\n",
       "      <th>765</th>\n",
       "      <td>5</td>\n",
       "      <td>121</td>\n",
       "      <td>72</td>\n",
       "      <td>23</td>\n",
       "      <td>112</td>\n",
       "      <td>26.2</td>\n",
       "      <td>0.245</td>\n",
       "      <td>30</td>\n",
       "      <td>0</td>\n",
       "    </tr>\n",
       "    <tr>\n",
       "      <th>766</th>\n",
       "      <td>1</td>\n",
       "      <td>126</td>\n",
       "      <td>60</td>\n",
       "      <td>0</td>\n",
       "      <td>0</td>\n",
       "      <td>30.1</td>\n",
       "      <td>0.349</td>\n",
       "      <td>47</td>\n",
       "      <td>1</td>\n",
       "    </tr>\n",
       "    <tr>\n",
       "      <th>767</th>\n",
       "      <td>1</td>\n",
       "      <td>93</td>\n",
       "      <td>70</td>\n",
       "      <td>31</td>\n",
       "      <td>0</td>\n",
       "      <td>30.4</td>\n",
       "      <td>0.315</td>\n",
       "      <td>23</td>\n",
       "      <td>0</td>\n",
       "    </tr>\n",
       "  </tbody>\n",
       "</table>\n",
       "<p>768 rows × 9 columns</p>\n",
       "</div>"
      ],
      "text/plain": [
       "     Pregnancies  Glucose  BloodPressure  SkinThickness  Insulin   BMI  \\\n",
       "0              6      148             72             35        0  33.6   \n",
       "1              1       85             66             29        0  26.6   \n",
       "2              8      183             64              0        0  23.3   \n",
       "3              1       89             66             23       94  28.1   \n",
       "4              0      137             40             35      168  43.1   \n",
       "..           ...      ...            ...            ...      ...   ...   \n",
       "763           10      101             76             48      180  32.9   \n",
       "764            2      122             70             27        0  36.8   \n",
       "765            5      121             72             23      112  26.2   \n",
       "766            1      126             60              0        0  30.1   \n",
       "767            1       93             70             31        0  30.4   \n",
       "\n",
       "     DiabetesPedigreeFunction  Age  Outcome  \n",
       "0                       0.627   50        1  \n",
       "1                       0.351   31        0  \n",
       "2                       0.672   32        1  \n",
       "3                       0.167   21        0  \n",
       "4                       2.288   33        1  \n",
       "..                        ...  ...      ...  \n",
       "763                     0.171   63        0  \n",
       "764                     0.340   27        0  \n",
       "765                     0.245   30        0  \n",
       "766                     0.349   47        1  \n",
       "767                     0.315   23        0  \n",
       "\n",
       "[768 rows x 9 columns]"
      ]
     },
     "execution_count": 7,
     "metadata": {},
     "output_type": "execute_result"
    }
   ],
   "source": [
    "\n",
    "df"
   ]
  },
  {
   "cell_type": "code",
   "execution_count": 8,
   "id": "b76ace56",
   "metadata": {},
   "outputs": [
    {
     "data": {
      "text/plain": [
       "(768, 9)"
      ]
     },
     "execution_count": 8,
     "metadata": {},
     "output_type": "execute_result"
    }
   ],
   "source": [
    "df.shape"
   ]
  },
  {
   "cell_type": "code",
   "execution_count": 9,
   "id": "e02e4239",
   "metadata": {},
   "outputs": [],
   "source": [
    "dataset=df.values\n",
    "x=dataset[:,0:8]\n",
    "y=dataset[:,8]"
   ]
  },
  {
   "cell_type": "code",
   "execution_count": 10,
   "id": "97328249",
   "metadata": {},
   "outputs": [
    {
     "data": {
      "text/plain": [
       "array([[  6.   , 148.   ,  72.   , ...,  33.6  ,   0.627,  50.   ],\n",
       "       [  1.   ,  85.   ,  66.   , ...,  26.6  ,   0.351,  31.   ],\n",
       "       [  8.   , 183.   ,  64.   , ...,  23.3  ,   0.672,  32.   ],\n",
       "       ...,\n",
       "       [  5.   , 121.   ,  72.   , ...,  26.2  ,   0.245,  30.   ],\n",
       "       [  1.   , 126.   ,  60.   , ...,  30.1  ,   0.349,  47.   ],\n",
       "       [  1.   ,  93.   ,  70.   , ...,  30.4  ,   0.315,  23.   ]])"
      ]
     },
     "execution_count": 10,
     "metadata": {},
     "output_type": "execute_result"
    }
   ],
   "source": [
    "x"
   ]
  },
  {
   "cell_type": "code",
   "execution_count": 11,
   "id": "8605d3cd",
   "metadata": {},
   "outputs": [
    {
     "data": {
      "text/plain": [
       "array([1., 0., 1., 0., 1., 0., 1., 0., 1., 1., 0., 1., 0., 1., 1., 1., 1.,\n",
       "       1., 0., 1., 0., 0., 1., 1., 1., 1., 1., 0., 0., 0., 0., 1., 0., 0.,\n",
       "       0., 0., 0., 1., 1., 1., 0., 0., 0., 1., 0., 1., 0., 0., 1., 0., 0.,\n",
       "       0., 0., 1., 0., 0., 1., 0., 0., 0., 0., 1., 0., 0., 1., 0., 1., 0.,\n",
       "       0., 0., 1., 0., 1., 0., 0., 0., 0., 0., 1., 0., 0., 0., 0., 0., 1.,\n",
       "       0., 0., 0., 1., 0., 0., 0., 0., 1., 0., 0., 0., 0., 0., 1., 1., 0.,\n",
       "       0., 0., 0., 0., 0., 0., 0., 1., 1., 1., 0., 0., 1., 1., 1., 0., 0.,\n",
       "       0., 1., 0., 0., 0., 1., 1., 0., 0., 1., 1., 1., 1., 1., 0., 0., 0.,\n",
       "       0., 0., 0., 0., 0., 0., 0., 1., 0., 0., 0., 0., 0., 0., 0., 0., 1.,\n",
       "       0., 1., 1., 0., 0., 0., 1., 0., 0., 0., 0., 1., 1., 0., 0., 0., 0.,\n",
       "       1., 1., 0., 0., 0., 1., 0., 1., 0., 1., 0., 0., 0., 0., 0., 1., 1.,\n",
       "       1., 1., 1., 0., 0., 1., 1., 0., 1., 0., 1., 1., 1., 0., 0., 0., 0.,\n",
       "       0., 0., 1., 1., 0., 1., 0., 0., 0., 1., 1., 1., 1., 0., 1., 1., 1.,\n",
       "       1., 0., 0., 0., 0., 0., 1., 0., 0., 1., 1., 0., 0., 0., 1., 1., 1.,\n",
       "       1., 0., 0., 0., 1., 1., 0., 1., 0., 0., 0., 0., 0., 0., 0., 0., 1.,\n",
       "       1., 0., 0., 0., 1., 0., 1., 0., 0., 1., 0., 1., 0., 0., 1., 1., 0.,\n",
       "       0., 0., 0., 0., 1., 0., 0., 0., 1., 0., 0., 1., 1., 0., 0., 1., 0.,\n",
       "       0., 0., 1., 1., 1., 0., 0., 1., 0., 1., 0., 1., 1., 0., 1., 0., 0.,\n",
       "       1., 0., 1., 1., 0., 0., 1., 0., 1., 0., 0., 1., 0., 1., 0., 1., 1.,\n",
       "       1., 0., 0., 1., 0., 1., 0., 0., 0., 1., 0., 0., 0., 0., 1., 1., 1.,\n",
       "       0., 0., 0., 0., 0., 0., 0., 0., 0., 1., 0., 0., 0., 0., 0., 1., 1.,\n",
       "       1., 0., 1., 1., 0., 0., 1., 0., 0., 1., 0., 0., 1., 1., 0., 0., 0.,\n",
       "       0., 1., 0., 0., 1., 0., 0., 0., 0., 0., 0., 0., 1., 1., 1., 0., 0.,\n",
       "       1., 0., 0., 1., 0., 0., 1., 0., 1., 1., 0., 1., 0., 1., 0., 1., 0.,\n",
       "       1., 1., 0., 0., 0., 0., 1., 1., 0., 1., 0., 1., 0., 0., 0., 0., 1.,\n",
       "       1., 0., 1., 0., 1., 0., 0., 0., 0., 0., 1., 0., 0., 0., 0., 1., 0.,\n",
       "       0., 1., 1., 1., 0., 0., 1., 0., 0., 1., 0., 0., 0., 1., 0., 0., 1.,\n",
       "       0., 0., 0., 0., 0., 0., 0., 0., 0., 1., 0., 0., 0., 0., 0., 0., 0.,\n",
       "       1., 0., 0., 0., 1., 0., 0., 0., 1., 1., 0., 0., 0., 0., 0., 0., 0.,\n",
       "       1., 0., 0., 0., 0., 1., 0., 0., 0., 1., 0., 0., 0., 1., 0., 0., 0.,\n",
       "       1., 0., 0., 0., 0., 1., 1., 0., 0., 0., 0., 0., 0., 1., 0., 0., 0.,\n",
       "       0., 0., 0., 0., 0., 0., 0., 0., 1., 0., 0., 0., 1., 1., 1., 1., 0.,\n",
       "       0., 1., 1., 0., 0., 0., 0., 0., 0., 0., 0., 0., 0., 0., 0., 0., 1.,\n",
       "       1., 0., 0., 0., 0., 0., 0., 0., 1., 0., 0., 0., 0., 0., 0., 0., 1.,\n",
       "       0., 1., 1., 0., 0., 0., 1., 0., 1., 0., 1., 0., 1., 0., 1., 0., 0.,\n",
       "       1., 0., 0., 1., 0., 0., 0., 0., 1., 1., 0., 1., 0., 0., 0., 0., 1.,\n",
       "       1., 0., 1., 0., 0., 0., 1., 1., 0., 0., 0., 0., 0., 0., 0., 0., 0.,\n",
       "       0., 1., 0., 0., 0., 0., 1., 0., 0., 1., 0., 0., 0., 1., 0., 0., 0.,\n",
       "       1., 1., 1., 0., 0., 0., 0., 0., 0., 1., 0., 0., 0., 1., 0., 1., 1.,\n",
       "       1., 1., 0., 1., 1., 0., 0., 0., 0., 0., 0., 0., 1., 1., 0., 1., 0.,\n",
       "       0., 1., 0., 1., 0., 0., 0., 0., 0., 1., 0., 1., 0., 1., 0., 1., 1.,\n",
       "       0., 0., 0., 0., 1., 1., 0., 0., 0., 1., 0., 1., 1., 0., 0., 1., 0.,\n",
       "       0., 1., 1., 0., 0., 1., 0., 0., 1., 0., 0., 0., 0., 0., 0., 0., 1.,\n",
       "       1., 1., 0., 0., 0., 0., 0., 0., 1., 1., 0., 0., 1., 0., 0., 1., 0.,\n",
       "       1., 1., 1., 0., 0., 1., 1., 1., 0., 1., 0., 1., 0., 1., 0., 0., 0.,\n",
       "       0., 1., 0.])"
      ]
     },
     "execution_count": 11,
     "metadata": {},
     "output_type": "execute_result"
    }
   ],
   "source": [
    "y"
   ]
  },
  {
   "cell_type": "code",
   "execution_count": 12,
   "id": "73daaabd",
   "metadata": {},
   "outputs": [],
   "source": [
    "X_train,X_test,y_train,y_test=train_test_split(x,y,test_size=0.2,random_state=42)"
   ]
  },
  {
   "cell_type": "code",
   "execution_count": 13,
   "id": "5decac6c",
   "metadata": {},
   "outputs": [],
   "source": [
    "scalar= StandardScaler()"
   ]
  },
  {
   "cell_type": "code",
   "execution_count": 14,
   "id": "cf3b7006",
   "metadata": {},
   "outputs": [],
   "source": [
    "X_train=scalar.fit_transform(X_train)\n",
    "X_test=scalar.fit_transform(X_test)"
   ]
  },
  {
   "cell_type": "code",
   "execution_count": 15,
   "id": "48c5269e",
   "metadata": {},
   "outputs": [
    {
     "name": "stdout",
     "output_type": "stream",
     "text": [
      "WARNING:tensorflow:From C:\\Users\\thanu\\AppData\\Roaming\\Python\\Python311\\site-packages\\keras\\src\\backend.py:873: The name tf.get_default_graph is deprecated. Please use tf.compat.v1.get_default_graph instead.\n",
      "\n"
     ]
    }
   ],
   "source": [
    "model=Sequential()\n",
    "model.add(Dense(units=12,input_shape=(8,),activation='relu'))\n",
    "model.add(Dense(1,activation='sigmoid'))"
   ]
  },
  {
   "cell_type": "code",
   "execution_count": 16,
   "id": "ceefc977",
   "metadata": {},
   "outputs": [],
   "source": [
    "optimizer=Adam(learning_rate=0.001)\n",
    "model.compile(optimizer=optimizer,loss=\"binary_crossentropy\", metrics=['accuracy'])"
   ]
  },
  {
   "cell_type": "code",
   "execution_count": 17,
   "id": "395106ed",
   "metadata": {},
   "outputs": [
    {
     "name": "stdout",
     "output_type": "stream",
     "text": [
      "Epoch 1/100\n",
      "WARNING:tensorflow:From C:\\Users\\thanu\\AppData\\Roaming\\Python\\Python311\\site-packages\\keras\\src\\utils\\tf_utils.py:492: The name tf.ragged.RaggedTensorValue is deprecated. Please use tf.compat.v1.ragged.RaggedTensorValue instead.\n",
      "\n",
      "WARNING:tensorflow:From C:\\Users\\thanu\\AppData\\Roaming\\Python\\Python311\\site-packages\\keras\\src\\engine\\base_layer_utils.py:384: The name tf.executing_eagerly_outside_functions is deprecated. Please use tf.compat.v1.executing_eagerly_outside_functions instead.\n",
      "\n",
      "10/10 [==============================] - 3s 73ms/step - loss: 0.7705 - accuracy: 0.4457 - val_loss: 0.7700 - val_accuracy: 0.4516\n",
      "Epoch 2/100\n",
      "10/10 [==============================] - 0s 13ms/step - loss: 0.7391 - accuracy: 0.4692 - val_loss: 0.7455 - val_accuracy: 0.4516\n",
      "Epoch 3/100\n",
      "10/10 [==============================] - 0s 19ms/step - loss: 0.7108 - accuracy: 0.5163 - val_loss: 0.7236 - val_accuracy: 0.4839\n",
      "Epoch 4/100\n",
      "10/10 [==============================] - 0s 21ms/step - loss: 0.6861 - accuracy: 0.5670 - val_loss: 0.7020 - val_accuracy: 0.4839\n",
      "Epoch 5/100\n",
      "10/10 [==============================] - 0s 14ms/step - loss: 0.6635 - accuracy: 0.6069 - val_loss: 0.6837 - val_accuracy: 0.5000\n",
      "Epoch 6/100\n",
      "10/10 [==============================] - 0s 17ms/step - loss: 0.6431 - accuracy: 0.6322 - val_loss: 0.6673 - val_accuracy: 0.5968\n",
      "Epoch 7/100\n",
      "10/10 [==============================] - 0s 15ms/step - loss: 0.6252 - accuracy: 0.6612 - val_loss: 0.6530 - val_accuracy: 0.6129\n",
      "Epoch 8/100\n",
      "10/10 [==============================] - 0s 14ms/step - loss: 0.6094 - accuracy: 0.6884 - val_loss: 0.6406 - val_accuracy: 0.6774\n",
      "Epoch 9/100\n",
      "10/10 [==============================] - 0s 14ms/step - loss: 0.5953 - accuracy: 0.7029 - val_loss: 0.6281 - val_accuracy: 0.6774\n",
      "Epoch 10/100\n",
      "10/10 [==============================] - 0s 14ms/step - loss: 0.5824 - accuracy: 0.7192 - val_loss: 0.6172 - val_accuracy: 0.7258\n",
      "Epoch 11/100\n",
      "10/10 [==============================] - 0s 14ms/step - loss: 0.5711 - accuracy: 0.7355 - val_loss: 0.6068 - val_accuracy: 0.7581\n",
      "Epoch 12/100\n",
      "10/10 [==============================] - 0s 14ms/step - loss: 0.5606 - accuracy: 0.7409 - val_loss: 0.5960 - val_accuracy: 0.7581\n",
      "Epoch 13/100\n",
      "10/10 [==============================] - 0s 17ms/step - loss: 0.5506 - accuracy: 0.7627 - val_loss: 0.5865 - val_accuracy: 0.7742\n",
      "Epoch 14/100\n",
      "10/10 [==============================] - 0s 14ms/step - loss: 0.5425 - accuracy: 0.7609 - val_loss: 0.5781 - val_accuracy: 0.7742\n",
      "Epoch 15/100\n",
      "10/10 [==============================] - 0s 15ms/step - loss: 0.5341 - accuracy: 0.7663 - val_loss: 0.5708 - val_accuracy: 0.7903\n",
      "Epoch 16/100\n",
      "10/10 [==============================] - 0s 18ms/step - loss: 0.5272 - accuracy: 0.7717 - val_loss: 0.5642 - val_accuracy: 0.8065\n",
      "Epoch 17/100\n",
      "10/10 [==============================] - 0s 16ms/step - loss: 0.5207 - accuracy: 0.7699 - val_loss: 0.5579 - val_accuracy: 0.8065\n",
      "Epoch 18/100\n",
      "10/10 [==============================] - 0s 16ms/step - loss: 0.5151 - accuracy: 0.7717 - val_loss: 0.5521 - val_accuracy: 0.8065\n",
      "Epoch 19/100\n",
      "10/10 [==============================] - 0s 19ms/step - loss: 0.5097 - accuracy: 0.7790 - val_loss: 0.5474 - val_accuracy: 0.7903\n",
      "Epoch 20/100\n",
      "10/10 [==============================] - 0s 16ms/step - loss: 0.5051 - accuracy: 0.7826 - val_loss: 0.5425 - val_accuracy: 0.7903\n",
      "Epoch 21/100\n",
      "10/10 [==============================] - 0s 17ms/step - loss: 0.5009 - accuracy: 0.7772 - val_loss: 0.5377 - val_accuracy: 0.7903\n",
      "Epoch 22/100\n",
      "10/10 [==============================] - 0s 15ms/step - loss: 0.4967 - accuracy: 0.7826 - val_loss: 0.5337 - val_accuracy: 0.7903\n",
      "Epoch 23/100\n",
      "10/10 [==============================] - 0s 19ms/step - loss: 0.4932 - accuracy: 0.7862 - val_loss: 0.5305 - val_accuracy: 0.7742\n",
      "Epoch 24/100\n",
      "10/10 [==============================] - 0s 15ms/step - loss: 0.4900 - accuracy: 0.7880 - val_loss: 0.5283 - val_accuracy: 0.7742\n",
      "Epoch 25/100\n",
      "10/10 [==============================] - 0s 19ms/step - loss: 0.4870 - accuracy: 0.7880 - val_loss: 0.5259 - val_accuracy: 0.7742\n",
      "Epoch 26/100\n",
      "10/10 [==============================] - 0s 18ms/step - loss: 0.4844 - accuracy: 0.7862 - val_loss: 0.5234 - val_accuracy: 0.7742\n",
      "Epoch 27/100\n",
      "10/10 [==============================] - 0s 18ms/step - loss: 0.4818 - accuracy: 0.7808 - val_loss: 0.5220 - val_accuracy: 0.7903\n",
      "Epoch 28/100\n",
      "10/10 [==============================] - 0s 16ms/step - loss: 0.4792 - accuracy: 0.7808 - val_loss: 0.5201 - val_accuracy: 0.7903\n",
      "Epoch 29/100\n",
      "10/10 [==============================] - 0s 14ms/step - loss: 0.4770 - accuracy: 0.7826 - val_loss: 0.5181 - val_accuracy: 0.7903\n",
      "Epoch 30/100\n",
      "10/10 [==============================] - 0s 16ms/step - loss: 0.4748 - accuracy: 0.7826 - val_loss: 0.5164 - val_accuracy: 0.7903\n",
      "Epoch 31/100\n",
      "10/10 [==============================] - 0s 18ms/step - loss: 0.4729 - accuracy: 0.7826 - val_loss: 0.5148 - val_accuracy: 0.7903\n",
      "Epoch 32/100\n",
      "10/10 [==============================] - 0s 16ms/step - loss: 0.4710 - accuracy: 0.7844 - val_loss: 0.5131 - val_accuracy: 0.7903\n",
      "Epoch 33/100\n",
      "10/10 [==============================] - 0s 16ms/step - loss: 0.4692 - accuracy: 0.7862 - val_loss: 0.5117 - val_accuracy: 0.7903\n",
      "Epoch 34/100\n",
      "10/10 [==============================] - 0s 13ms/step - loss: 0.4676 - accuracy: 0.7844 - val_loss: 0.5109 - val_accuracy: 0.7903\n",
      "Epoch 35/100\n",
      "10/10 [==============================] - 0s 14ms/step - loss: 0.4661 - accuracy: 0.7862 - val_loss: 0.5099 - val_accuracy: 0.7903\n",
      "Epoch 36/100\n",
      "10/10 [==============================] - 0s 17ms/step - loss: 0.4645 - accuracy: 0.7880 - val_loss: 0.5087 - val_accuracy: 0.7903\n",
      "Epoch 37/100\n",
      "10/10 [==============================] - 0s 17ms/step - loss: 0.4631 - accuracy: 0.7880 - val_loss: 0.5079 - val_accuracy: 0.7903\n",
      "Epoch 38/100\n",
      "10/10 [==============================] - 0s 16ms/step - loss: 0.4616 - accuracy: 0.7917 - val_loss: 0.5073 - val_accuracy: 0.7903\n",
      "Epoch 39/100\n",
      "10/10 [==============================] - 0s 20ms/step - loss: 0.4604 - accuracy: 0.7880 - val_loss: 0.5063 - val_accuracy: 0.7903\n",
      "Epoch 40/100\n",
      "10/10 [==============================] - 0s 16ms/step - loss: 0.4591 - accuracy: 0.7880 - val_loss: 0.5060 - val_accuracy: 0.7903\n",
      "Epoch 41/100\n",
      "10/10 [==============================] - 0s 14ms/step - loss: 0.4579 - accuracy: 0.7880 - val_loss: 0.5053 - val_accuracy: 0.7903\n",
      "Epoch 42/100\n",
      "10/10 [==============================] - 0s 15ms/step - loss: 0.4568 - accuracy: 0.7862 - val_loss: 0.5035 - val_accuracy: 0.7903\n",
      "Epoch 43/100\n",
      "10/10 [==============================] - 0s 13ms/step - loss: 0.4557 - accuracy: 0.7862 - val_loss: 0.5017 - val_accuracy: 0.7903\n",
      "Epoch 44/100\n",
      "10/10 [==============================] - 0s 13ms/step - loss: 0.4547 - accuracy: 0.7880 - val_loss: 0.5004 - val_accuracy: 0.7903\n",
      "Epoch 45/100\n",
      "10/10 [==============================] - 0s 15ms/step - loss: 0.4537 - accuracy: 0.7899 - val_loss: 0.5002 - val_accuracy: 0.7903\n",
      "Epoch 46/100\n",
      "10/10 [==============================] - 0s 15ms/step - loss: 0.4527 - accuracy: 0.7899 - val_loss: 0.4995 - val_accuracy: 0.7903\n",
      "Epoch 47/100\n",
      "10/10 [==============================] - 0s 15ms/step - loss: 0.4517 - accuracy: 0.7935 - val_loss: 0.4997 - val_accuracy: 0.7903\n",
      "Epoch 48/100\n",
      "10/10 [==============================] - 0s 13ms/step - loss: 0.4508 - accuracy: 0.7971 - val_loss: 0.4999 - val_accuracy: 0.7903\n",
      "Epoch 49/100\n",
      "10/10 [==============================] - 0s 22ms/step - loss: 0.4498 - accuracy: 0.7971 - val_loss: 0.4997 - val_accuracy: 0.7903\n",
      "Epoch 50/100\n",
      "10/10 [==============================] - 0s 15ms/step - loss: 0.4489 - accuracy: 0.7971 - val_loss: 0.4991 - val_accuracy: 0.7742\n",
      "Epoch 51/100\n",
      "10/10 [==============================] - 0s 16ms/step - loss: 0.4481 - accuracy: 0.7971 - val_loss: 0.4991 - val_accuracy: 0.7742\n",
      "Epoch 52/100\n",
      "10/10 [==============================] - 0s 18ms/step - loss: 0.4471 - accuracy: 0.7971 - val_loss: 0.4989 - val_accuracy: 0.7903\n",
      "Epoch 53/100\n",
      "10/10 [==============================] - 0s 16ms/step - loss: 0.4464 - accuracy: 0.7971 - val_loss: 0.4989 - val_accuracy: 0.7903\n",
      "Epoch 54/100\n",
      "10/10 [==============================] - 0s 14ms/step - loss: 0.4456 - accuracy: 0.7989 - val_loss: 0.4983 - val_accuracy: 0.7903\n"
     ]
    },
    {
     "name": "stdout",
     "output_type": "stream",
     "text": [
      "Epoch 55/100\n",
      "10/10 [==============================] - 0s 13ms/step - loss: 0.4450 - accuracy: 0.7989 - val_loss: 0.4977 - val_accuracy: 0.7903\n",
      "Epoch 56/100\n",
      "10/10 [==============================] - 0s 12ms/step - loss: 0.4443 - accuracy: 0.8007 - val_loss: 0.4983 - val_accuracy: 0.7903\n",
      "Epoch 57/100\n",
      "10/10 [==============================] - 0s 14ms/step - loss: 0.4435 - accuracy: 0.7989 - val_loss: 0.4981 - val_accuracy: 0.7903\n",
      "Epoch 58/100\n",
      "10/10 [==============================] - 0s 14ms/step - loss: 0.4426 - accuracy: 0.8007 - val_loss: 0.4980 - val_accuracy: 0.7903\n",
      "Epoch 59/100\n",
      "10/10 [==============================] - 0s 13ms/step - loss: 0.4420 - accuracy: 0.7989 - val_loss: 0.4973 - val_accuracy: 0.7903\n",
      "Epoch 60/100\n",
      "10/10 [==============================] - 0s 13ms/step - loss: 0.4412 - accuracy: 0.8025 - val_loss: 0.4974 - val_accuracy: 0.7903\n",
      "Epoch 61/100\n",
      "10/10 [==============================] - 0s 14ms/step - loss: 0.4406 - accuracy: 0.8025 - val_loss: 0.4975 - val_accuracy: 0.7903\n",
      "Epoch 62/100\n",
      "10/10 [==============================] - 0s 14ms/step - loss: 0.4399 - accuracy: 0.8007 - val_loss: 0.4979 - val_accuracy: 0.7903\n",
      "Epoch 63/100\n",
      "10/10 [==============================] - 0s 16ms/step - loss: 0.4391 - accuracy: 0.8025 - val_loss: 0.4978 - val_accuracy: 0.7903\n",
      "Epoch 64/100\n",
      "10/10 [==============================] - 0s 17ms/step - loss: 0.4384 - accuracy: 0.8043 - val_loss: 0.4982 - val_accuracy: 0.7903\n",
      "Epoch 65/100\n",
      "10/10 [==============================] - 0s 14ms/step - loss: 0.4377 - accuracy: 0.8007 - val_loss: 0.4981 - val_accuracy: 0.7903\n",
      "Epoch 66/100\n",
      "10/10 [==============================] - 0s 14ms/step - loss: 0.4369 - accuracy: 0.8007 - val_loss: 0.4978 - val_accuracy: 0.7903\n",
      "Epoch 67/100\n",
      "10/10 [==============================] - 0s 14ms/step - loss: 0.4363 - accuracy: 0.8007 - val_loss: 0.4974 - val_accuracy: 0.7903\n",
      "Epoch 68/100\n",
      "10/10 [==============================] - 0s 17ms/step - loss: 0.4356 - accuracy: 0.8007 - val_loss: 0.4968 - val_accuracy: 0.7903\n",
      "Epoch 69/100\n",
      "10/10 [==============================] - 0s 16ms/step - loss: 0.4349 - accuracy: 0.8025 - val_loss: 0.4971 - val_accuracy: 0.7903\n",
      "Epoch 70/100\n",
      "10/10 [==============================] - 0s 15ms/step - loss: 0.4343 - accuracy: 0.8025 - val_loss: 0.4973 - val_accuracy: 0.7903\n",
      "Epoch 71/100\n",
      "10/10 [==============================] - 0s 14ms/step - loss: 0.4335 - accuracy: 0.8043 - val_loss: 0.4977 - val_accuracy: 0.7903\n",
      "Epoch 72/100\n",
      "10/10 [==============================] - 0s 15ms/step - loss: 0.4331 - accuracy: 0.8062 - val_loss: 0.4977 - val_accuracy: 0.7742\n",
      "Epoch 73/100\n",
      "10/10 [==============================] - 0s 13ms/step - loss: 0.4325 - accuracy: 0.8062 - val_loss: 0.4981 - val_accuracy: 0.7742\n",
      "Epoch 74/100\n",
      "10/10 [==============================] - 0s 14ms/step - loss: 0.4319 - accuracy: 0.8062 - val_loss: 0.4974 - val_accuracy: 0.7742\n",
      "Epoch 75/100\n",
      "10/10 [==============================] - 0s 22ms/step - loss: 0.4313 - accuracy: 0.8080 - val_loss: 0.4975 - val_accuracy: 0.7742\n",
      "Epoch 76/100\n",
      "10/10 [==============================] - 0s 18ms/step - loss: 0.4307 - accuracy: 0.8080 - val_loss: 0.4975 - val_accuracy: 0.7742\n",
      "Epoch 77/100\n",
      "10/10 [==============================] - 0s 18ms/step - loss: 0.4301 - accuracy: 0.8025 - val_loss: 0.4969 - val_accuracy: 0.7742\n",
      "Epoch 78/100\n",
      "10/10 [==============================] - 0s 15ms/step - loss: 0.4295 - accuracy: 0.8025 - val_loss: 0.4967 - val_accuracy: 0.7742\n",
      "Epoch 79/100\n",
      "10/10 [==============================] - 0s 16ms/step - loss: 0.4290 - accuracy: 0.8043 - val_loss: 0.4963 - val_accuracy: 0.7742\n",
      "Epoch 80/100\n",
      "10/10 [==============================] - 0s 16ms/step - loss: 0.4283 - accuracy: 0.8043 - val_loss: 0.4964 - val_accuracy: 0.7742\n",
      "Epoch 81/100\n",
      "10/10 [==============================] - 0s 15ms/step - loss: 0.4277 - accuracy: 0.8062 - val_loss: 0.4954 - val_accuracy: 0.7742\n",
      "Epoch 82/100\n",
      "10/10 [==============================] - 0s 13ms/step - loss: 0.4272 - accuracy: 0.8043 - val_loss: 0.4947 - val_accuracy: 0.7742\n",
      "Epoch 83/100\n",
      "10/10 [==============================] - 0s 13ms/step - loss: 0.4267 - accuracy: 0.8025 - val_loss: 0.4927 - val_accuracy: 0.7742\n",
      "Epoch 84/100\n",
      "10/10 [==============================] - 0s 12ms/step - loss: 0.4264 - accuracy: 0.8062 - val_loss: 0.4921 - val_accuracy: 0.7742\n",
      "Epoch 85/100\n",
      "10/10 [==============================] - 0s 15ms/step - loss: 0.4257 - accuracy: 0.8062 - val_loss: 0.4926 - val_accuracy: 0.7742\n",
      "Epoch 86/100\n",
      "10/10 [==============================] - 0s 14ms/step - loss: 0.4251 - accuracy: 0.8062 - val_loss: 0.4926 - val_accuracy: 0.7742\n",
      "Epoch 87/100\n",
      "10/10 [==============================] - 0s 14ms/step - loss: 0.4248 - accuracy: 0.8062 - val_loss: 0.4925 - val_accuracy: 0.7742\n",
      "Epoch 88/100\n",
      "10/10 [==============================] - 0s 18ms/step - loss: 0.4241 - accuracy: 0.8062 - val_loss: 0.4930 - val_accuracy: 0.7742\n",
      "Epoch 89/100\n",
      "10/10 [==============================] - 0s 15ms/step - loss: 0.4236 - accuracy: 0.8098 - val_loss: 0.4935 - val_accuracy: 0.7742\n",
      "Epoch 90/100\n",
      "10/10 [==============================] - 0s 14ms/step - loss: 0.4232 - accuracy: 0.8098 - val_loss: 0.4940 - val_accuracy: 0.7742\n",
      "Epoch 91/100\n",
      "10/10 [==============================] - 0s 10ms/step - loss: 0.4229 - accuracy: 0.8080 - val_loss: 0.4944 - val_accuracy: 0.7742\n",
      "Epoch 92/100\n",
      "10/10 [==============================] - 0s 12ms/step - loss: 0.4225 - accuracy: 0.8098 - val_loss: 0.4949 - val_accuracy: 0.7742\n",
      "Epoch 93/100\n",
      "10/10 [==============================] - 0s 12ms/step - loss: 0.4220 - accuracy: 0.8098 - val_loss: 0.4941 - val_accuracy: 0.7742\n",
      "Epoch 94/100\n",
      "10/10 [==============================] - 0s 14ms/step - loss: 0.4215 - accuracy: 0.8098 - val_loss: 0.4935 - val_accuracy: 0.7742\n",
      "Epoch 95/100\n",
      "10/10 [==============================] - 0s 9ms/step - loss: 0.4211 - accuracy: 0.8080 - val_loss: 0.4928 - val_accuracy: 0.7742\n",
      "Epoch 96/100\n",
      "10/10 [==============================] - 0s 9ms/step - loss: 0.4208 - accuracy: 0.8098 - val_loss: 0.4923 - val_accuracy: 0.7742\n",
      "Epoch 97/100\n",
      "10/10 [==============================] - 0s 16ms/step - loss: 0.4203 - accuracy: 0.8098 - val_loss: 0.4926 - val_accuracy: 0.7742\n",
      "Epoch 98/100\n",
      "10/10 [==============================] - 0s 14ms/step - loss: 0.4200 - accuracy: 0.8098 - val_loss: 0.4927 - val_accuracy: 0.7742\n",
      "Epoch 99/100\n",
      "10/10 [==============================] - 0s 16ms/step - loss: 0.4197 - accuracy: 0.8098 - val_loss: 0.4923 - val_accuracy: 0.7581\n",
      "Epoch 100/100\n",
      "10/10 [==============================] - 0s 12ms/step - loss: 0.4191 - accuracy: 0.8116 - val_loss: 0.4927 - val_accuracy: 0.7742\n"
     ]
    }
   ],
   "source": [
    "his=model.fit(X_train,y_train,epochs=100,batch_size=60,validation_split=0.1)"
   ]
  },
  {
   "cell_type": "code",
   "execution_count": 18,
   "id": "5f5c7bb6",
   "metadata": {},
   "outputs": [
    {
     "data": {
      "image/png": "[encoded data removed]",
      "text/plain": [
       "<Figure size 640x480 with 1 Axes>"
      ]
     },
     "metadata": {},
     "output_type": "display_data"
    }
   ],
   "source": [
    "plt.plot(his.history['accuracy'],label='Training Loss')\n",
    "plt.plot(his.history['val_accuracy'],label='Validation Loss')\n",
    "plt.legend()\n",
    "plt.show()"
   ]
  },
  {
   "cell_type": "code",
   "execution_count": 20,
   "id": "62d38e2b",
   "metadata": {},
   "outputs": [
    {
     "name": "stdout",
     "output_type": "stream",
     "text": [
      "5/5 [==============================] - 0s 10ms/step - loss: 0.5437 - accuracy: 0.7532\n"
     ]
    }
   ],
   "source": [
    "result=model.evaluate(X_test,y_test)"
   ]
  },
  {
   "cell_type": "code",
   "execution_count": 21,
   "id": "25f8be72",
   "metadata": {},
   "outputs": [
    {
     "data": {
      "text/plain": [
       "0.7532467246055603"
      ]
     },
     "execution_count": 21,
     "metadata": {},
     "output_type": "execute_result"
    }
   ],
   "source": [
    "result[1]"
   ]
  },
  {
   "cell_type": "code",
   "execution_count": null,
   "id": "74f37b72",
   "metadata": {},
   "outputs": [],
   "source": []
  }
 ],
 "metadata": {
  "kernelspec": {
   "display_name": "Python 3 (ipykernel)",
   "language": "python",
   "name": "python3"
  },
  "language_info": {
   "codemirror_mode": {
    "name": "ipython",
    "version": 3
   },
   "file_extension": ".py",
   "mimetype": "text/x-python",
   "name": "python",
   "nbconvert_exporter": "python",
   "pygments_lexer": "ipython3",
   "version": "3.11.5"
  }
 },
 "nbformat": 4,
 "nbformat_minor": 5
}
